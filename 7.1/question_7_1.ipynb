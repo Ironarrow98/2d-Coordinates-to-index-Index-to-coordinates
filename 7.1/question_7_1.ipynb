{
 "cells": [
  {
   "cell_type": "code",
   "execution_count": 1,
   "metadata": {
    "id": "dMHezOzfajiI"
   },
   "outputs": [],
   "source": [
    "def find_cord(i, L1):\n",
    "  x1 = i % L1\n",
    "  x2 = i // L1\n",
    "  return [x1, x2]\n",
    "\n",
    "def find_index(cord, L1):\n",
    "  x1 = cord[0]\n",
    "  x2 = cord[1]\n",
    "  i = x1 + L1 * x2\n",
    "  return i"
   ]
  },
  {
   "cell_type": "code",
   "execution_count": 2,
   "metadata": {
    "id": "lgF9amH5bkTI"
   },
   "outputs": [],
   "source": [
    "import pandas as pd\n",
    "import numpy as np\n",
    "\n",
    "L1 = 50\n",
    "L2 = 57\n",
    "cords = pd.read_csv('input_data/input_coordinates_7_1.txt', sep=\"\\t\").values\n",
    "indexes = pd.read_csv('input_data/input_index_7_1.txt', sep=\"\\t\").values\n",
    "\n",
    "output_indexes = []\n",
    "for cord in cords:\n",
    "  output_indexes.append(find_index(cord, L1))\n",
    "\n",
    "output_cords = []\n",
    "for i in indexes:\n",
    "  output_cords.append(find_cord(int(i), L1))\n",
    "\n",
    "df1 = pd.DataFrame({'index':output_indexes})\n",
    "df1.to_csv('output_data/output_index_7_1.txt', index = None)\n",
    "\n",
    "df2 = pd.DataFrame(output_cords)\n",
    "df2.to_csv('output_data/output_coordinates_7_1.txt', header = ['x1', 'x2'], index = None, sep = \"\\t\")\n"
   ]
  }
 ],
 "metadata": {
  "colab": {
   "name": "question_7_1.ipynb",
   "provenance": []
  },
  "kernelspec": {
   "display_name": "Python 3",
   "language": "python",
   "name": "python3"
  },
  "language_info": {
   "codemirror_mode": {
    "name": "ipython",
    "version": 3
   },
   "file_extension": ".py",
   "mimetype": "text/x-python",
   "name": "python",
   "nbconvert_exporter": "python",
   "pygments_lexer": "ipython3",
   "version": "3.8.3"
  }
 },
 "nbformat": 4,
 "nbformat_minor": 1
}
